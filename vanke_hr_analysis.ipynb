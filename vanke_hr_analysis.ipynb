{
 "cells": [
  {
   "cell_type": "markdown",
   "metadata": {},
   "source": [
    "# 万科2018年春季深圳社招"
   ]
  },
  {
   "cell_type": "markdown",
   "metadata": {},
   "source": [
    "## 概述"
   ]
  },
  {
   "cell_type": "code",
   "execution_count": 105,
   "metadata": {
    "collapsed": true
   },
   "outputs": [],
   "source": [
    "import pandas\n",
    "import seaborn as sns\n",
    "import matplotlib.pyplot as plt\n",
    "import matplotlib\n",
    "%matplotlib inline"
   ]
  },
  {
   "cell_type": "code",
   "execution_count": 65,
   "metadata": {
    "collapsed": true
   },
   "outputs": [],
   "source": [
    "vanke_row = pandas.read_csv('E:\\\\MySQL_data\\\\vanke_hr_info.csv',encoding = 'utf-8')"
   ]
  },
  {
   "cell_type": "code",
   "execution_count": 271,
   "metadata": {},
   "outputs": [
    {
     "data": {
      "text/html": [
       "<div>\n",
       "<style>\n",
       "    .dataframe thead tr:only-child th {\n",
       "        text-align: right;\n",
       "    }\n",
       "\n",
       "    .dataframe thead th {\n",
       "        text-align: left;\n",
       "    }\n",
       "\n",
       "    .dataframe tbody tr th {\n",
       "        vertical-align: top;\n",
       "    }\n",
       "</style>\n",
       "<table border=\"1\" class=\"dataframe\">\n",
       "  <thead>\n",
       "    <tr style=\"text-align: right;\">\n",
       "      <th></th>\n",
       "      <th>id</th>\n",
       "      <th>position</th>\n",
       "      <th>company</th>\n",
       "      <th>degreee</th>\n",
       "      <th>experience</th>\n",
       "      <th>number</th>\n",
       "      <th>job_content</th>\n",
       "      <th>job_demand</th>\n",
       "      <th>occupation</th>\n",
       "      <th>update</th>\n",
       "      <th>Experience</th>\n",
       "      <th>Number</th>\n",
       "      <th>month</th>\n",
       "    </tr>\n",
       "  </thead>\n",
       "  <tbody>\n",
       "    <tr>\n",
       "      <th>54</th>\n",
       "      <td>38062216</td>\n",
       "      <td>架构师</td>\n",
       "      <td>物业事业部</td>\n",
       "      <td>学历不限</td>\n",
       "      <td>7 - 15年工作经验</td>\n",
       "      <td>招聘1人</td>\n",
       "      <td>1、主导公司产品架构设计或对现有技术架构的优化，技术选型决策； 2、新技术预演，将合适的新开...</td>\n",
       "      <td>1.7~12年工作经验，7年以上JAVA开发经验，至少负责过两个以上大中型系统的总体规划和架...</td>\n",
       "      <td>NaN</td>\n",
       "      <td>2018-02-28</td>\n",
       "      <td>7.0</td>\n",
       "      <td>1.0</td>\n",
       "      <td>2</td>\n",
       "    </tr>\n",
       "    <tr>\n",
       "      <th>53</th>\n",
       "      <td>36739909</td>\n",
       "      <td>财务BP</td>\n",
       "      <td>物业发展</td>\n",
       "      <td>学历不限</td>\n",
       "      <td>5 - 10年工作经验</td>\n",
       "      <td>招聘1人</td>\n",
       "      <td>岗位职责： 1、负责业务单元的财务指标设定及管理，熟悉预算管理； 2、核算管理及财务运营管理...</td>\n",
       "      <td>任职要求： 1、本科以上学历，会计、财务或相关专业，具有中级以上职称，CPA、ACCA等资格...</td>\n",
       "      <td>NaN</td>\n",
       "      <td>2018-02-28</td>\n",
       "      <td>5.0</td>\n",
       "      <td>1.0</td>\n",
       "      <td>2</td>\n",
       "    </tr>\n",
       "    <tr>\n",
       "      <th>52</th>\n",
       "      <td>38356545</td>\n",
       "      <td>产品运营总监</td>\n",
       "      <td>物业发展</td>\n",
       "      <td>学历不限</td>\n",
       "      <td>4 - 8年工作经验</td>\n",
       "      <td>招聘1人</td>\n",
       "      <td>岗位职责  理解公司的互联网产品战略，参与制定产品方案，负责制定全国运营方案；  搭建与...</td>\n",
       "      <td>任职要求  具有极致的创造力，对发现和解决问题高度兴奋；  5年以上工作经验，有15人以...</td>\n",
       "      <td>物业</td>\n",
       "      <td>2018-03-07</td>\n",
       "      <td>4.0</td>\n",
       "      <td>1.0</td>\n",
       "      <td>3</td>\n",
       "    </tr>\n",
       "  </tbody>\n",
       "</table>\n",
       "</div>"
      ],
      "text/plain": [
       "          id position company degreee     experience number  \\\n",
       "54  38062216      架构师   物业事业部   学历不限    7 - 15年工作经验   招聘1人    \n",
       "53  36739909     财务BP    物业发展   学历不限    5 - 10年工作经验   招聘1人    \n",
       "52  38356545   产品运营总监    物业发展   学历不限     4 - 8年工作经验   招聘1人    \n",
       "\n",
       "                                          job_content  \\\n",
       "54  1、主导公司产品架构设计或对现有技术架构的优化，技术选型决策； 2、新技术预演，将合适的新开...   \n",
       "53  岗位职责： 1、负责业务单元的财务指标设定及管理，熟悉预算管理； 2、核算管理及财务运营管理...   \n",
       "52  岗位职责  理解公司的互联网产品战略，参与制定产品方案，负责制定全国运营方案；  搭建与...   \n",
       "\n",
       "                                           job_demand occupation     update  \\\n",
       "54  1.7~12年工作经验，7年以上JAVA开发经验，至少负责过两个以上大中型系统的总体规划和架...        NaN 2018-02-28   \n",
       "53  任职要求： 1、本科以上学历，会计、财务或相关专业，具有中级以上职称，CPA、ACCA等资格...        NaN 2018-02-28   \n",
       "52  任职要求  具有极致的创造力，对发现和解决问题高度兴奋；  5年以上工作经验，有15人以...         物业 2018-03-07   \n",
       "\n",
       "    Experience  Number  month  \n",
       "54         7.0     1.0      2  \n",
       "53         5.0     1.0      2  \n",
       "52         4.0     1.0      3  "
      ]
     },
     "execution_count": 271,
     "metadata": {},
     "output_type": "execute_result"
    }
   ],
   "source": [
    "vanke_row.sample(3)"
   ]
  },
  {
   "cell_type": "markdown",
   "metadata": {},
   "source": [
    "特征描述：<br>\n",
    "\n",
    "|id|position|company|degreee|experience|\n",
    "|-------|-------|-------|------|----------|\n",
    "|职位的id|职位名称|招聘部门|学历要求|工作经验要求|\n",
    "|number|job_content|job_demand|occupation|update|\n",
    "|招聘人数|工作内容|对应聘人员的要求|业态|职位发布日期|\n"
   ]
  },
  {
   "cell_type": "markdown",
   "metadata": {},
   "source": [
    "## 数据清洗"
   ]
  },
  {
   "cell_type": "markdown",
   "metadata": {},
   "source": [
    "`city`全为深圳，抛弃，将`degereee`标签化<br>\n",
    "> 标签化失败，因为无法定位`vanke_row.loc[vanke_row['degreee'] == '专科']`返回的结果是None，是编码的问题，但是如何破解，暂未找到方法<br>"
   ]
  },
  {
   "cell_type": "code",
   "execution_count": 289,
   "metadata": {},
   "outputs": [
    {
     "data": {
      "text/plain": [
       "Series([], Name: degreee, dtype: object)"
      ]
     },
     "execution_count": 289,
     "metadata": {},
     "output_type": "execute_result"
    }
   ],
   "source": [
    "vanke_row.loc[vanke_row['degreee'] == '专科','degreee']"
   ]
  },
  {
   "cell_type": "markdown",
   "metadata": {},
   "source": [
    "### 从experience中提取数字"
   ]
  },
  {
   "cell_type": "code",
   "execution_count": 66,
   "metadata": {
    "collapsed": true
   },
   "outputs": [],
   "source": [
    "vanke_row['Experience'] = vanke_row.experience.str.extract(r'(\\d+).*',expand=False) \n",
    "\n",
    "vanke_row.loc[vanke_row['Experience'].notnull() == True,'Experience'].astype(int)\n",
    "vanke_row.loc[vanke_row['Experience'].isnull() == True,'Experience'] = 0\n",
    "\n",
    "vanke_row.loc[vanke_row['Experience'] == 2018,'Experience'] = 0"
   ]
  },
  {
   "cell_type": "markdown",
   "metadata": {},
   "source": [
    "### 从number中提取数字"
   ]
  },
  {
   "cell_type": "code",
   "execution_count": 92,
   "metadata": {
    "collapsed": true
   },
   "outputs": [],
   "source": [
    "vanke_row['Number'] = vanke_row.number.str.extract(r'..(\\d+).',expand=False) \n",
    "\n",
    "vanke_row['Number'] = vanke_row.loc[vanke_row['Number'].notnull() == True,\\\n",
    "                                    'Number'].astype(int)\n",
    "\n",
    "vanke_row.loc[vanke_row['Number'].isnull()== True,'Number'] = 1"
   ]
  },
  {
   "cell_type": "code",
   "execution_count": 287,
   "metadata": {},
   "outputs": [
    {
     "name": "stdout",
     "output_type": "stream",
     "text": [
      "<class 'pandas.core.frame.DataFrame'>\n",
      "Int64Index: 99 entries, 2 to 101\n",
      "Data columns (total 13 columns):\n",
      "id             99 non-null int64\n",
      "position       99 non-null object\n",
      "company        99 non-null object\n",
      "degreee        99 non-null object\n",
      "experience     99 non-null object\n",
      "number         99 non-null object\n",
      "job_content    99 non-null object\n",
      "job_demand     99 non-null object\n",
      "occupation     92 non-null object\n",
      "update         99 non-null datetime64[ns]\n",
      "Experience     99 non-null float64\n",
      "Number         99 non-null float64\n",
      "month          99 non-null int32\n",
      "dtypes: datetime64[ns](1), float64(2), int32(1), int64(1), object(8)\n",
      "memory usage: 12.9+ KB\n"
     ]
    }
   ],
   "source": [
    "vanke_row.info()"
   ]
  },
  {
   "cell_type": "markdown",
   "metadata": {},
   "source": [
    "## 分析"
   ]
  },
  {
   "cell_type": "markdown",
   "metadata": {},
   "source": [
    "### 部门对人员工作经验要求"
   ]
  },
  {
   "cell_type": "code",
   "execution_count": 115,
   "metadata": {},
   "outputs": [
    {
     "data": {
      "image/png": "[encoded data removed]",
      "text/plain": [
       "<matplotlib.figure.Figure at 0x19c58067860>"
      ]
     },
     "metadata": {},
     "output_type": "display_data"
    }
   ],
   "source": [
    "sns.set_style('darkgrid')\n",
    "plt.rcParams['font.family'] = ['SimHei']\n",
    "sns.boxplot(x='company',y='Experience',data=vanke_row)\n",
    "plt.title('各部门对人员工作经验要求');"
   ]
  },
  {
   "cell_type": "markdown",
   "metadata": {},
   "source": [
    "结论：万科社招对人员要求工作经验主要集中3~5年"
   ]
  },
  {
   "cell_type": "markdown",
   "metadata": {},
   "source": [
    "### 各部门招聘人数"
   ]
  },
  {
   "cell_type": "code",
   "execution_count": 291,
   "metadata": {},
   "outputs": [
    {
     "data": {
      "image/png": "[encoded data removed]",
      "text/plain": [
       "<matplotlib.figure.Figure at 0x19c5ab5aa90>"
      ]
     },
     "metadata": {},
     "output_type": "display_data"
    }
   ],
   "source": [
    "sns.set_style('whitegrid')\n",
    "plt.rcParams['font.family'] = ['SimHei']\n",
    "ax = sns.barplot(x='company',y='Number',\n",
    "                 data=vanke_row.groupby(by='company',as_index=False).sum(),  \n",
    "                 order = ['印力集团','万科集团','物业发展','物业事业部']\n",
    "                )\n",
    "plt.title('各部门招聘人员总数')\n",
    "ax.set_ylim(0,110)\n",
    "ax.set_ylabel('')\n",
    "ax.set_yticks([]);\n",
    "for p in ax.patches:\n",
    "    x = p.get_bbox().get_points()[:,0]\n",
    "    y = p.get_bbox().get_points()[1,1]\n",
    "    ax.annotate('{}'.format(int(y)),\n",
    "               (x.mean(),y),\n",
    "               ha = 'center',\n",
    "               va = 'bottom')"
   ]
  },
  {
   "cell_type": "markdown",
   "metadata": {},
   "source": [
    "结论：物业事业部招聘人数明显多于其它部门"
   ]
  },
  {
   "cell_type": "markdown",
   "metadata": {},
   "source": [
    "奇怪的是，这里作图时order中也是汉字，但是仍然可以定位、排序"
   ]
  },
  {
   "cell_type": "markdown",
   "metadata": {},
   "source": [
    "### 各部门职位发布日期"
   ]
  },
  {
   "cell_type": "code",
   "execution_count": 180,
   "metadata": {},
   "outputs": [],
   "source": [
    "vanke_row['month'] = pandas.to_datetime(vanke_row['update']).dt.month.astype(int)"
   ]
  },
  {
   "cell_type": "code",
   "execution_count": 201,
   "metadata": {},
   "outputs": [],
   "source": [
    "vanke_row['update'] = pandas.to_datetime(vanke_row['update'],\n",
    "                                         format='%Y-%m-%d',\n",
    "                                        box = False,\n",
    "                                        )"
   ]
  },
  {
   "cell_type": "code",
   "execution_count": 330,
   "metadata": {},
   "outputs": [
    {
     "data": {
      "text/plain": [
       "Text(0.5,0,'月份')"
      ]
     },
     "execution_count": 330,
     "metadata": {},
     "output_type": "execute_result"
    },
    {
     "data": {
      "image/png": "[encoded data removed]",
      "text/plain": [
       "<matplotlib.figure.Figure at 0x19c5bee0cc0>"
      ]
     },
     "metadata": {},
     "output_type": "display_data"
    }
   ],
   "source": [
    "sns.set(style = 'white')\n",
    "plt.rcParams['font.family'] = ['SimHei']\n",
    "ax = sns.barplot(x='month',y='Number',\n",
    "                 data = vanke_row.groupby(['month','company'],as_index=False).sum(),\n",
    "                hue = 'company')\n",
    "ax.legend(loc='upper left')\n",
    "ax.yaxis.tick_right()\n",
    "ax.yaxis.set_label_position('right')\n",
    "plt.title('各部门职位发布月份')\n",
    "plt.xlabel('月份',fontsize=12)"
   ]
  },
  {
   "cell_type": "markdown",
   "metadata": {},
   "source": [
    "对于岗位发布日期，印力集团主要集中在3月份发布；其它部门在2、3月发布没有明显区别。<br>\n",
    "其实我这里想做一个横轴为日期，纵轴为招聘人数，按照部门分类的直方图，但是未能实现。故只能按照月份分类汇总。"
   ]
  },
  {
   "cell_type": "markdown",
   "metadata": {},
   "source": [
    "### 学历要求"
   ]
  },
  {
   "cell_type": "code",
   "execution_count": 292,
   "metadata": {},
   "outputs": [
    {
     "data": {
      "text/html": [
       "<div>\n",
       "<style>\n",
       "    .dataframe thead tr:only-child th {\n",
       "        text-align: right;\n",
       "    }\n",
       "\n",
       "    .dataframe thead th {\n",
       "        text-align: left;\n",
       "    }\n",
       "\n",
       "    .dataframe tbody tr th {\n",
       "        vertical-align: top;\n",
       "    }\n",
       "</style>\n",
       "<table border=\"1\" class=\"dataframe\">\n",
       "  <thead>\n",
       "    <tr style=\"text-align: right;\">\n",
       "      <th></th>\n",
       "      <th>degreee</th>\n",
       "      <th>id</th>\n",
       "      <th>Experience</th>\n",
       "      <th>Number</th>\n",
       "      <th>month</th>\n",
       "    </tr>\n",
       "  </thead>\n",
       "  <tbody>\n",
       "    <tr>\n",
       "      <th>0</th>\n",
       "      <td>专科</td>\n",
       "      <td>37873018.0</td>\n",
       "      <td>3.0</td>\n",
       "      <td>2.0</td>\n",
       "      <td>2</td>\n",
       "    </tr>\n",
       "    <tr>\n",
       "      <th>2</th>\n",
       "      <td>本科</td>\n",
       "      <td>36740656.0</td>\n",
       "      <td>3.0</td>\n",
       "      <td>1.0</td>\n",
       "      <td>2</td>\n",
       "    </tr>\n",
       "    <tr>\n",
       "      <th>1</th>\n",
       "      <td>学历不限</td>\n",
       "      <td>37801360.0</td>\n",
       "      <td>4.0</td>\n",
       "      <td>1.0</td>\n",
       "      <td>3</td>\n",
       "    </tr>\n",
       "    <tr>\n",
       "      <th>3</th>\n",
       "      <td>硕士</td>\n",
       "      <td>36891967.5</td>\n",
       "      <td>5.5</td>\n",
       "      <td>1.0</td>\n",
       "      <td>2</td>\n",
       "    </tr>\n",
       "  </tbody>\n",
       "</table>\n",
       "</div>"
      ],
      "text/plain": [
       "  degreee          id  Experience  Number  month\n",
       "0     专科   37873018.0         3.0     2.0      2\n",
       "2     本科   36740656.0         3.0     1.0      2\n",
       "1   学历不限   37801360.0         4.0     1.0      3\n",
       "3     硕士   36891967.5         5.5     1.0      2"
      ]
     },
     "execution_count": 292,
     "metadata": {},
     "output_type": "execute_result"
    }
   ],
   "source": [
    "vanke_row.groupby('degreee',as_index=False).median().\\\n",
    "sort_values(by='Experience',ascending=True)"
   ]
  },
  {
   "cell_type": "markdown",
   "metadata": {},
   "source": [
    "学历不限的经验要求大于专科、本科的经验要求"
   ]
  },
  {
   "cell_type": "code",
   "execution_count": 332,
   "metadata": {},
   "outputs": [
    {
     "data": {
      "text/plain": [
       "Text(0,0.5,'招聘人数')"
      ]
     },
     "execution_count": 332,
     "metadata": {},
     "output_type": "execute_result"
    },
    {
     "data": {
      "image/png": "[encoded data removed]",
      "text/plain": [
       "<matplotlib.figure.Figure at 0x19c5c12c668>"
      ]
     },
     "metadata": {},
     "output_type": "display_data"
    }
   ],
   "source": [
    "sns.set_style('white')\n",
    "plt.rcParams['font.family'] = ['SimHei']\n",
    "\n",
    "ax = sns.barplot(\n",
    "        x='company',y='Number',\n",
    "        data = vanke_row.groupby(['company','degreee'],as_index=False).sum(),\n",
    "        hue='degreee',\n",
    "        order = ['印力集团','万科集团','物业发展','物业事业部'],\n",
    "                )\n",
    "plt.subplots_adjust(left=0.15,right=0.9,\n",
    "                    bottom=0.1, top=0.9)\n",
    "ax.set_ylim([0,80])\n",
    "ax.legend(loc='upper left')\n",
    "ax.yaxis.tick_right()\n",
    "ax.yaxis.set_label_position('right')\n",
    "plt.title('各学历招聘人数')\n",
    "plt.xlabel('部门',fontsize=12)\n",
    "plt.ylabel('招聘人数',fontsize=12)"
   ]
  },
  {
   "cell_type": "markdown",
   "metadata": {},
   "source": [
    "结论：本科是起步条件"
   ]
  }
 ],
 "metadata": {
  "kernelspec": {
   "display_name": "Python 3",
   "language": "python",
   "name": "python3"
  },
  "language_info": {
   "codemirror_mode": {
    "name": "ipython",
    "version": 3
   },
   "file_extension": ".py",
   "mimetype": "text/x-python",
   "name": "python",
   "nbconvert_exporter": "python",
   "pygments_lexer": "ipython3",
   "version": "3.5.4"
  },
  "toc": {
   "nav_menu": {},
   "number_sections": true,
   "sideBar": true,
   "skip_h1_title": false,
   "toc_cell": false,
   "toc_position": {},
   "toc_section_display": "block",
   "toc_window_display": false
  }
 },
 "nbformat": 4,
 "nbformat_minor": 2
}
